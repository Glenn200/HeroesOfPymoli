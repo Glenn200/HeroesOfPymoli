{
 "cells": [
  {
   "cell_type": "markdown",
   "metadata": {},
   "source": [
    "### Note\n",
    "* Instructions have been included for each segment. You do not have to follow them exactly, but they are included to help you think through the steps."
   ]
  },
  {
   "cell_type": "code",
   "execution_count": 1,
   "metadata": {},
   "outputs": [],
   "source": [
    "# Dependencies and Setup\n",
    "import pandas as pd\n",
    "\n",
    "# File to Load (Remember to Change These)\n",
    "file_to_load = \"Resources/purchase_data.csv\"\n",
    "\n",
    "# Read Purchasing File and store into Pandas data frame\n",
    "purchase_data = pd.read_csv(file_to_load)"
   ]
  },
  {
   "cell_type": "markdown",
   "metadata": {},
   "source": [
    "## Player Count"
   ]
  },
  {
   "cell_type": "markdown",
   "metadata": {},
   "source": [
    "* Display the total number of players\n"
   ]
  },
  {
   "cell_type": "code",
   "execution_count": 2,
   "metadata": {},
   "outputs": [
    {
     "data": {
      "text/plain": [
       "576"
      ]
     },
     "execution_count": 2,
     "metadata": {},
     "output_type": "execute_result"
    }
   ],
   "source": [
    "tplayers = len(purchase_data[\"SN\"].unique())\n",
    "tplayers"
   ]
  },
  {
   "cell_type": "markdown",
   "metadata": {},
   "source": [
    "## Purchasing Analysis (Total)"
   ]
  },
  {
   "cell_type": "markdown",
   "metadata": {},
   "source": [
    "* Run basic calculations to obtain number of unique items, average price, etc.\n",
    "\n",
    "\n",
    "* Create a summary data frame to hold the results\n",
    "\n",
    "\n",
    "* Optional: give the displayed data cleaner formatting\n",
    "\n",
    "\n",
    "* Display the summary data frame\n"
   ]
  },
  {
   "cell_type": "code",
   "execution_count": 3,
   "metadata": {
    "scrolled": true
   },
   "outputs": [
    {
     "data": {
      "text/html": [
       "<div>\n",
       "<style scoped>\n",
       "    .dataframe tbody tr th:only-of-type {\n",
       "        vertical-align: middle;\n",
       "    }\n",
       "\n",
       "    .dataframe tbody tr th {\n",
       "        vertical-align: top;\n",
       "    }\n",
       "\n",
       "    .dataframe thead th {\n",
       "        text-align: right;\n",
       "    }\n",
       "</style>\n",
       "<table border=\"1\" class=\"dataframe\">\n",
       "  <thead>\n",
       "    <tr style=\"text-align: right;\">\n",
       "      <th></th>\n",
       "      <th>Item Count</th>\n",
       "      <th>Avg Price</th>\n",
       "    </tr>\n",
       "  </thead>\n",
       "  <tbody>\n",
       "    <tr>\n",
       "      <th>0</th>\n",
       "      <td>179</td>\n",
       "      <td>3.05</td>\n",
       "    </tr>\n",
       "  </tbody>\n",
       "</table>\n",
       "</div>"
      ],
      "text/plain": [
       "   Item Count  Avg Price\n",
       "0         179       3.05"
      ]
     },
     "execution_count": 3,
     "metadata": {},
     "output_type": "execute_result"
    }
   ],
   "source": [
    "titems = len(purchase_data[\"Item ID\"].unique())\n",
    "avgprice = round(purchase_data[\"Price\"].mean(),2)\n",
    "pr_df = pd.DataFrame([{\"Item Count\": titems, 'Avg Price': avgprice}])\n",
    "#pr_df[\"Avg Price\"].map('${: .2f}'.format)  # needs more work\n",
    "pr_df"
   ]
  },
  {
   "cell_type": "markdown",
   "metadata": {},
   "source": [
    "## Gender Demographics"
   ]
  },
  {
   "cell_type": "markdown",
   "metadata": {},
   "source": [
    "* Percentage and Count of Male Players\n",
    "\n",
    "\n",
    "* Percentage and Count of Female Players\n",
    "\n",
    "\n",
    "* Percentage and Count of Other / Non-Disclosed\n",
    "\n",
    "\n"
   ]
  },
  {
   "cell_type": "code",
   "execution_count": 4,
   "metadata": {},
   "outputs": [
    {
     "data": {
      "text/html": [
       "<div>\n",
       "<style scoped>\n",
       "    .dataframe tbody tr th:only-of-type {\n",
       "        vertical-align: middle;\n",
       "    }\n",
       "\n",
       "    .dataframe tbody tr th {\n",
       "        vertical-align: top;\n",
       "    }\n",
       "\n",
       "    .dataframe thead th {\n",
       "        text-align: right;\n",
       "    }\n",
       "</style>\n",
       "<table border=\"1\" class=\"dataframe\">\n",
       "  <thead>\n",
       "    <tr style=\"text-align: right;\">\n",
       "      <th></th>\n",
       "      <th>Purchase Count</th>\n",
       "    </tr>\n",
       "    <tr>\n",
       "      <th>Gender</th>\n",
       "      <th></th>\n",
       "    </tr>\n",
       "  </thead>\n",
       "  <tbody>\n",
       "    <tr>\n",
       "      <th>Female</th>\n",
       "      <td>81</td>\n",
       "    </tr>\n",
       "    <tr>\n",
       "      <th>Male</th>\n",
       "      <td>484</td>\n",
       "    </tr>\n",
       "    <tr>\n",
       "      <th>Other / Non-Disclosed</th>\n",
       "      <td>11</td>\n",
       "    </tr>\n",
       "  </tbody>\n",
       "</table>\n",
       "</div>"
      ],
      "text/plain": [
       "                       Purchase Count\n",
       "Gender                               \n",
       "Female                             81\n",
       "Male                              484\n",
       "Other / Non-Disclosed              11"
      ]
     },
     "execution_count": 4,
     "metadata": {},
     "output_type": "execute_result"
    }
   ],
   "source": [
    "#gd_df = pd.DataFrame(purchase_data).groupby([\"Gender\"]).count()\n",
    "gender_df = pd.DataFrame({'Purchase Count': purchase_data.groupby(['Gender'])['SN'].nunique()})  #needs more work\n",
    "gender_df"
   ]
  },
  {
   "cell_type": "code",
   "execution_count": 5,
   "metadata": {},
   "outputs": [
    {
     "data": {
      "text/html": [
       "<div>\n",
       "<style scoped>\n",
       "    .dataframe tbody tr th:only-of-type {\n",
       "        vertical-align: middle;\n",
       "    }\n",
       "\n",
       "    .dataframe tbody tr th {\n",
       "        vertical-align: top;\n",
       "    }\n",
       "\n",
       "    .dataframe thead th {\n",
       "        text-align: right;\n",
       "    }\n",
       "</style>\n",
       "<table border=\"1\" class=\"dataframe\">\n",
       "  <thead>\n",
       "    <tr style=\"text-align: right;\">\n",
       "      <th></th>\n",
       "      <th>Purchase Count</th>\n",
       "      <th>Percentage</th>\n",
       "    </tr>\n",
       "    <tr>\n",
       "      <th>Gender</th>\n",
       "      <th></th>\n",
       "      <th></th>\n",
       "    </tr>\n",
       "  </thead>\n",
       "  <tbody>\n",
       "    <tr>\n",
       "      <th>Female</th>\n",
       "      <td>113</td>\n",
       "      <td>0.144872</td>\n",
       "    </tr>\n",
       "    <tr>\n",
       "      <th>Male</th>\n",
       "      <td>652</td>\n",
       "      <td>0.835897</td>\n",
       "    </tr>\n",
       "    <tr>\n",
       "      <th>Other / Non-Disclosed</th>\n",
       "      <td>15</td>\n",
       "      <td>0.019231</td>\n",
       "    </tr>\n",
       "  </tbody>\n",
       "</table>\n",
       "</div>"
      ],
      "text/plain": [
       "                       Purchase Count  Percentage\n",
       "Gender                                           \n",
       "Female                            113    0.144872\n",
       "Male                              652    0.835897\n",
       "Other / Non-Disclosed              15    0.019231"
      ]
     },
     "execution_count": 5,
     "metadata": {},
     "output_type": "execute_result"
    }
   ],
   "source": [
    "#gd_df = purchase_data.count(level='Gender')\n",
    "#gd_df2 = purchase_data.agg({\"Gender\" : ['sum'])\n",
    "#gd_df\n",
    "#gd_df2 = pd.DataFrame({'Percentage': purchase_data.groupby(('Gender')).size() / len(purchase_data) })\n",
    "#gd_df2\n",
    "\n",
    "gender_df2 = pd.DataFrame({'Purchase Count': purchase_data.groupby(['Gender'])['Item ID'].count(), 'Percentage': purchase_data.groupby(['Gender']).size()/len(purchase_data)})\n",
    "gender_df2\n",
    "#tmale = 0\n",
    "#tfemale = 0\n",
    "#tother = 0\n",
    "#for r in purchase_data:\n",
    "#    if r[3] == \"male\":\n",
    "#        tmale =+ 1\n",
    "#    elif r[3] == \"female\":\n",
    "#        tfemale =+ 1\n",
    "#    else:\n",
    "#        tother =+ 1\n",
    "#print(tmale, tfemale, tother)"
   ]
  },
  {
   "cell_type": "markdown",
   "metadata": {},
   "source": [
    "\n",
    "## Purchasing Analysis (Gender)"
   ]
  },
  {
   "cell_type": "markdown",
   "metadata": {},
   "source": [
    "* Run basic calculations to obtain purchase count, avg. purchase price, avg. purchase total per person etc. by gender\n",
    "\n",
    "\n",
    "* Create a summary data frame to hold the results\n",
    "\n",
    "\n",
    "* Optional: give the displayed data cleaner formatting\n",
    "\n",
    "\n",
    "* Display the summary data frame"
   ]
  },
  {
   "cell_type": "code",
   "execution_count": 6,
   "metadata": {},
   "outputs": [
    {
     "name": "stdout",
     "output_type": "stream",
     "text": [
      "Gender\n",
      "Female                   4.47\n",
      "Male                     4.07\n",
      "Other / Non-Disclosed    4.56\n",
      "dtype: float64\n",
      "Gender\n",
      "Female                   113\n",
      "Male                     652\n",
      "Other / Non-Disclosed     15\n",
      "Name: Item ID, dtype: int64\n",
      "Gender\n",
      "Female                   $ 3.20\n",
      "Male                     $ 3.02\n",
      "Other / Non-Disclosed    $ 3.35\n",
      "Name: Price, dtype: object\n",
      "Gender\n",
      "Female                    14.5%\n",
      "Male                      83.6%\n",
      "Other / Non-Disclosed      1.9%\n",
      "dtype: object\n"
     ]
    }
   ],
   "source": [
    "print(round(purchase_data.groupby(['Gender'])['Price'].sum()/(purchase_data.groupby(['Gender'])['SN'].nunique()),2))\n",
    "print(purchase_data.groupby(['Gender'])['Item ID'].count())\n",
    "print(round(purchase_data.groupby(['Gender'])['Price'].mean(),2).map('${: .2f}'.format))\n",
    "print(round((purchase_data.groupby(['Gender']).size()/len(purchase_data)*100),1).map('{: .1f}%'.format))"
   ]
  },
  {
   "cell_type": "code",
   "execution_count": 7,
   "metadata": {},
   "outputs": [
    {
     "data": {
      "text/html": [
       "<div>\n",
       "<style scoped>\n",
       "    .dataframe tbody tr th:only-of-type {\n",
       "        vertical-align: middle;\n",
       "    }\n",
       "\n",
       "    .dataframe tbody tr th {\n",
       "        vertical-align: top;\n",
       "    }\n",
       "\n",
       "    .dataframe thead th {\n",
       "        text-align: right;\n",
       "    }\n",
       "</style>\n",
       "<table border=\"1\" class=\"dataframe\">\n",
       "  <thead>\n",
       "    <tr style=\"text-align: right;\">\n",
       "      <th></th>\n",
       "      <th>Pur Count</th>\n",
       "      <th>Avg Price</th>\n",
       "      <th>Pct</th>\n",
       "      <th>Avg Pur Total PP</th>\n",
       "    </tr>\n",
       "    <tr>\n",
       "      <th>Gender</th>\n",
       "      <th></th>\n",
       "      <th></th>\n",
       "      <th></th>\n",
       "      <th></th>\n",
       "    </tr>\n",
       "  </thead>\n",
       "  <tbody>\n",
       "    <tr>\n",
       "      <th>Female</th>\n",
       "      <td>113</td>\n",
       "      <td>$ 3.20</td>\n",
       "      <td>14.5%</td>\n",
       "      <td>$ 4.47</td>\n",
       "    </tr>\n",
       "    <tr>\n",
       "      <th>Male</th>\n",
       "      <td>652</td>\n",
       "      <td>$ 3.02</td>\n",
       "      <td>83.6%</td>\n",
       "      <td>$ 4.07</td>\n",
       "    </tr>\n",
       "    <tr>\n",
       "      <th>Other / Non-Disclosed</th>\n",
       "      <td>15</td>\n",
       "      <td>$ 3.35</td>\n",
       "      <td>1.9%</td>\n",
       "      <td>$ 4.56</td>\n",
       "    </tr>\n",
       "  </tbody>\n",
       "</table>\n",
       "</div>"
      ],
      "text/plain": [
       "                       Pur Count Avg Price     Pct Avg Pur Total PP\n",
       "Gender                                                             \n",
       "Female                       113    $ 3.20   14.5%           $ 4.47\n",
       "Male                         652    $ 3.02   83.6%           $ 4.07\n",
       "Other / Non-Disclosed         15    $ 3.35    1.9%           $ 4.56"
      ]
     },
     "execution_count": 7,
     "metadata": {},
     "output_type": "execute_result"
    }
   ],
   "source": [
    "gender_df3 = pd.DataFrame({'Pur Count': purchase_data.groupby(['Gender'])['Item ID'].count(),\n",
    "                           'Avg Price': round(purchase_data.groupby(['Gender'])['Price'].mean(),2).map('${: .2f}'.format),\n",
    "                           'Pct': round((purchase_data.groupby(['Gender']).size()/len(purchase_data)*100),1).map('{: .1f}%'.format),\n",
    "                           'Avg Pur Total PP' : round(purchase_data.groupby(['Gender'])['Price'].sum()/(purchase_data.groupby(['Gender'])['SN'].nunique()),2).map('${: .2f}'.format)})\n",
    "                           \n",
    "gender_df3"
   ]
  },
  {
   "cell_type": "markdown",
   "metadata": {},
   "source": [
    "## Age Demographics"
   ]
  },
  {
   "cell_type": "markdown",
   "metadata": {},
   "source": [
    "* Establish bins for ages\n",
    "\n",
    "\n",
    "* Categorize the existing players using the age bins. Hint: use pd.cut()\n",
    "\n",
    "\n",
    "* Calculate the numbers and percentages by age group\n",
    "\n",
    "\n",
    "* Create a summary data frame to hold the results\n",
    "\n",
    "\n",
    "* Optional: round the percentage column to two decimal points\n",
    "\n",
    "\n",
    "* Display Age Demographics Table\n"
   ]
  },
  {
   "cell_type": "code",
   "execution_count": 8,
   "metadata": {},
   "outputs": [
    {
     "name": "stdout",
     "output_type": "stream",
     "text": [
      "45\n",
      "22.714102564102564\n",
      "22.0\n",
      "7\n"
     ]
    }
   ],
   "source": [
    "maxage = purchase_data['Age'].max()\n",
    "avgage = purchase_data['Age'].mean()\n",
    "medage = purchase_data['Age'].median()\n",
    "minage = purchase_data['Age'].min()\n",
    "\n",
    "print(maxage)\n",
    "print(avgage)\n",
    "print(medage)\n",
    "print(minage)"
   ]
  },
  {
   "cell_type": "markdown",
   "metadata": {},
   "source": [
    "## Purchasing Analysis (Age)"
   ]
  },
  {
   "cell_type": "markdown",
   "metadata": {},
   "source": [
    "* Bin the purchase_data data frame by age\n",
    "\n",
    "\n",
    "* Run basic calculations to obtain purchase count, avg. purchase price, avg. purchase total per person etc. in the table below\n",
    "\n",
    "\n",
    "* Create a summary data frame to hold the results\n",
    "\n",
    "\n",
    "* Optional: give the displayed data cleaner formatting\n",
    "\n",
    "\n",
    "* Display the summary data frame"
   ]
  },
  {
   "cell_type": "code",
   "execution_count": 20,
   "metadata": {},
   "outputs": [
    {
     "name": "stdout",
     "output_type": "stream",
     "text": [
      "Age\n",
      "7     $ 4.70\n",
      "8     $ 4.33\n",
      "9     $ 4.57\n",
      "10    $ 4.55\n",
      "11    $ 3.13\n",
      "12    $ 3.95\n",
      "13    $ 3.15\n",
      "14    $ 3.46\n",
      "15    $ 4.06\n",
      "16    $ 3.77\n",
      "17    $ 3.39\n",
      "18    $ 3.92\n",
      "19    $ 4.12\n",
      "20    $ 4.56\n",
      "21    $ 4.20\n",
      "22    $ 4.22\n",
      "23    $ 4.12\n",
      "24    $ 4.38\n",
      "25    $ 4.23\n",
      "26    $ 3.65\n",
      "27    $ 3.03\n",
      "28    $ 2.11\n",
      "29    $ 3.52\n",
      "30    $ 4.41\n",
      "31    $ 4.81\n",
      "32    $ 3.78\n",
      "33    $ 3.87\n",
      "34    $ 3.16\n",
      "35    $ 5.20\n",
      "36    $ 2.53\n",
      "37    $ 5.10\n",
      "38    $ 6.83\n",
      "39    $ 3.89\n",
      "40    $ 3.34\n",
      "41    $ 3.27\n",
      "42    $ 3.93\n",
      "43    $ 4.00\n",
      "44    $ 2.68\n",
      "45    $ 1.70\n",
      "dtype: object\n"
     ]
    }
   ],
   "source": [
    "pur_age_grp = pd.cut(purchase_data['Age'],[0,13,20,30,60], right = True, labels =['Child','Teen','Young Adult','Adult'])\n",
    "#pur_age_grp = pd.cut(purchase_data['Age'],[0,13,20,30,60], right = True,labels =['Child','Teen','Young Adult','Adult'])\n",
    "#pd.cut(pur_age_grp,4)\n",
    "pur_age = purchase_data.groupby(['Age'])['Item ID'].count()\n",
    "avg_pur_pr_age = round(purchase_data.groupby(['Age'])['Price'].mean(),2).map('${: .2f}'.format)\n",
    "#purchase_data.groupby(['Age'])['Price'].sum()\n",
    "#avg_pt_age = purchase_data.groupby(['Age'])['Price'].sum()/(purchase_data.groupby(['Age'])['Item ID'].count())\n",
    "avg_pt_age = round(purchase_data.groupby(['Age'])['Price'].sum()/(purchase_data.groupby(['Age'])['SN'].nunique()),2).map('${: .2f}'.format)\n",
    "pa_df = pd.DataFrame({'Age': pd.cut(purchase_data['Age'],[0,10,20,30,60], right = True,\n",
    "                                                 labels =['Child','Teen','Young Adult','Adult'])})\n",
    "#pa_df\n",
    "#print(pur_age_grp)\n",
    "#print(pur_age)\n",
    "#print(avg_pur_pr_age)\n",
    "print(avg_pt_age)\n"
   ]
  },
  {
   "cell_type": "markdown",
   "metadata": {},
   "source": [
    "## Top Spenders"
   ]
  },
  {
   "cell_type": "markdown",
   "metadata": {},
   "source": [
    "* Run basic calculations to obtain the results in the table below\n",
    "\n",
    "\n",
    "* Create a summary data frame to hold the results\n",
    "\n",
    "\n",
    "* Sort the total purchase value column in descending order\n",
    "\n",
    "\n",
    "* Optional: give the displayed data cleaner formatting\n",
    "\n",
    "\n",
    "* Display a preview of the summary data frame\n",
    "\n"
   ]
  },
  {
   "cell_type": "code",
   "execution_count": null,
   "metadata": {},
   "outputs": [],
   "source": []
  },
  {
   "cell_type": "markdown",
   "metadata": {},
   "source": [
    "## Most Popular Items"
   ]
  },
  {
   "cell_type": "markdown",
   "metadata": {},
   "source": [
    "* Retrieve the Item ID, Item Name, and Item Price columns\n",
    "\n",
    "\n",
    "* Group by Item ID and Item Name. Perform calculations to obtain purchase count, average item price, and total purchase value\n",
    "\n",
    "\n",
    "* Create a summary data frame to hold the results\n",
    "\n",
    "\n",
    "* Sort the purchase count column in descending order\n",
    "\n",
    "\n",
    "* Optional: give the displayed data cleaner formatting\n",
    "\n",
    "\n",
    "* Display a preview of the summary data frame\n",
    "\n"
   ]
  },
  {
   "cell_type": "code",
   "execution_count": null,
   "metadata": {},
   "outputs": [],
   "source": []
  },
  {
   "cell_type": "markdown",
   "metadata": {},
   "source": [
    "## Most Profitable Items"
   ]
  },
  {
   "cell_type": "markdown",
   "metadata": {},
   "source": [
    "* Sort the above table by total purchase value in descending order\n",
    "\n",
    "\n",
    "* Optional: give the displayed data cleaner formatting\n",
    "\n",
    "\n",
    "* Display a preview of the data frame\n",
    "\n"
   ]
  },
  {
   "cell_type": "code",
   "execution_count": null,
   "metadata": {
    "scrolled": true
   },
   "outputs": [],
   "source": [
    "s=pd.Series([168,180,174,190,170,185,179,181,175,169,182,177,180,171])\n",
    "pd.cut(s,3)\n",
    "#To add labels to bins\n",
    "pd.cut(s,3,labels=[\"Small\",\"Medium\",\"Large\"])"
   ]
  },
  {
   "cell_type": "code",
   "execution_count": null,
   "metadata": {},
   "outputs": [],
   "source": []
  }
 ],
 "metadata": {
  "anaconda-cloud": {},
  "kernel_info": {
   "name": "python3"
  },
  "kernelspec": {
   "display_name": "Python 3",
   "language": "python",
   "name": "python3"
  },
  "language_info": {
   "codemirror_mode": {
    "name": "ipython",
    "version": 3
   },
   "file_extension": ".py",
   "mimetype": "text/x-python",
   "name": "python",
   "nbconvert_exporter": "python",
   "pygments_lexer": "ipython3",
   "version": "3.8.5"
  },
  "latex_envs": {
   "LaTeX_envs_menu_present": true,
   "autoclose": false,
   "autocomplete": true,
   "bibliofile": "biblio.bib",
   "cite_by": "apalike",
   "current_citInitial": 1,
   "eqLabelWithNumbers": true,
   "eqNumInitial": 1,
   "hotkeys": {
    "equation": "Ctrl-E",
    "itemize": "Ctrl-I"
   },
   "labels_anchors": false,
   "latex_user_defs": false,
   "report_style_numbering": false,
   "user_envs_cfg": false
  },
  "nteract": {
   "version": "0.2.0"
  }
 },
 "nbformat": 4,
 "nbformat_minor": 4
}
